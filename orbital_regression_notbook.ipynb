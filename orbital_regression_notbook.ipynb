{
 "cells": [
  {
   "cell_type": "code",
   "execution_count": 7,
   "metadata": {
    "id": "GTMg4p0QGEiP"
   },
   "outputs": [],
   "source": [
    "# Import necessary libraries\n",
    "import numpy as np                     # For numerical operations\n",
    "import pandas as pd                    # For data manipulation and analysis\n",
    "import tensorflow as tf                # For building and training neural networks\n",
    "import matplotlib.pyplot as plt        # For data visualization\n",
    "from sklearn.model_selection import train_test_split  # For splitting data into training and validation sets\n",
    "from sklearn.metrics import mean_squared_error, mean_absolute_error, r2_score  # For evaluating model performance\n",
    "from tensorflow.keras.models import Sequential  # For creating sequential models\n",
    "from tensorflow.keras.layers import Dense       # For adding dense layers to the model\n",
    "from tensorflow.keras.callbacks import EarlyStopping # For implementing early stopping during training to prevent overfitting"
   ]
  },
  {
   "cell_type": "code",
   "execution_count": 2,
   "metadata": {
    "id": "0SOG1AG8GHZs"
   },
   "outputs": [
    {
     "name": "stdout",
     "output_type": "stream",
     "text": [
      "time_steps    0\n",
      "y             0\n",
      "dtype: int64\n"
     ]
    }
   ],
   "source": [
    "# Load the dataset from a CSV file\n",
    "data = pd.read_csv(r'C:\\Users\\Rabab\\Downloads\\orbit.csv')  # Adjust the file path as necessary\n",
    "print(data.isnull().sum())            # Check for missing values in the dataset"
   ]
  },
  {
   "cell_type": "code",
   "execution_count": 3,
   "metadata": {},
   "outputs": [],
   "source": [
    "# Prepare the feature (time_steps) and target (y_positions) variables\n",
    "time_steps = data['time_steps'].to_numpy().reshape(-1, 1)  # Convert 'time_steps' column to a 2D numpy array\n",
    "y_positions = data['y'].to_numpy().reshape(-1, 1)          # Convert 'y' column to a 2D numpy array\n"
   ]
  },
  {
   "cell_type": "code",
   "execution_count": 5,
   "metadata": {},
   "outputs": [
    {
     "name": "stdout",
     "output_type": "stream",
     "text": [
      "Missing values in time_steps: 0\n",
      "Missing values in y_positions: 0\n"
     ]
    }
   ],
   "source": [
    "# Check for missing values in the processed data\n",
    "# Should return 0 if there are no missing values\n",
    "missing_time_steps = np.isnan(time_steps).sum()\n",
    "missing_y_positions = np.isnan(y_positions).sum()\n",
    "\n",
    "print(f\"Missing values in time_steps: {missing_time_steps}\")\n",
    "print(f\"Missing values in y_positions: {missing_y_positions}\")"
   ]
  },
  {
   "cell_type": "code",
   "execution_count": 6,
   "metadata": {},
   "outputs": [
    {
     "data": {
      "text/html": [
       "<div>\n",
       "<style scoped>\n",
       "    .dataframe tbody tr th:only-of-type {\n",
       "        vertical-align: middle;\n",
       "    }\n",
       "\n",
       "    .dataframe tbody tr th {\n",
       "        vertical-align: top;\n",
       "    }\n",
       "\n",
       "    .dataframe thead th {\n",
       "        text-align: right;\n",
       "    }\n",
       "</style>\n",
       "<table border=\"1\" class=\"dataframe\">\n",
       "  <thead>\n",
       "    <tr style=\"text-align: right;\">\n",
       "      <th></th>\n",
       "      <th>time_steps</th>\n",
       "      <th>y</th>\n",
       "    </tr>\n",
       "  </thead>\n",
       "  <tbody>\n",
       "    <tr>\n",
       "      <th>0</th>\n",
       "      <td>-10.000000</td>\n",
       "      <td>100.000000</td>\n",
       "    </tr>\n",
       "    <tr>\n",
       "      <th>1</th>\n",
       "      <td>-9.989995</td>\n",
       "      <td>99.800000</td>\n",
       "    </tr>\n",
       "    <tr>\n",
       "      <th>2</th>\n",
       "      <td>-9.979990</td>\n",
       "      <td>99.600200</td>\n",
       "    </tr>\n",
       "    <tr>\n",
       "      <th>3</th>\n",
       "      <td>-9.969985</td>\n",
       "      <td>99.400601</td>\n",
       "    </tr>\n",
       "    <tr>\n",
       "      <th>4</th>\n",
       "      <td>-9.959980</td>\n",
       "      <td>99.201201</td>\n",
       "    </tr>\n",
       "  </tbody>\n",
       "</table>\n",
       "</div>"
      ],
      "text/plain": [
       "   time_steps           y\n",
       "0  -10.000000  100.000000\n",
       "1   -9.989995   99.800000\n",
       "2   -9.979990   99.600200\n",
       "3   -9.969985   99.400601\n",
       "4   -9.959980   99.201201"
      ]
     },
     "execution_count": 6,
     "metadata": {},
     "output_type": "execute_result"
    }
   ],
   "source": [
    "# Display the first few rows of the dataset\n",
    "data.head()"
   ]
  },
  {
   "cell_type": "code",
   "execution_count": 8,
   "metadata": {
    "colab": {
     "base_uri": "https://localhost:8080/",
     "height": 312
    },
    "id": "dHJmtq9NGUyT",
    "outputId": "fafd2301-fcd0-4038-a95f-8c5a57a01b26"
   },
   "outputs": [
    {
     "name": "stdout",
     "output_type": "stream",
     "text": [
      "Model: \"sequential\"\n",
      "_________________________________________________________________\n",
      " Layer (type)                Output Shape              Param #   \n",
      "=================================================================\n",
      " dense (Dense)               (None, 1024)              2048      \n",
      "                                                                 \n",
      " dense_1 (Dense)             (None, 1024)              1049600   \n",
      "                                                                 \n",
      " dense_2 (Dense)             (None, 1024)              1049600   \n",
      "                                                                 \n",
      " dense_3 (Dense)             (None, 1024)              1049600   \n",
      "                                                                 \n",
      " dense_4 (Dense)             (None, 1024)              1049600   \n",
      "                                                                 \n",
      " dense_5 (Dense)             (None, 1024)              1049600   \n",
      "                                                                 \n",
      " dense_6 (Dense)             (None, 1)                 1025      \n",
      "                                                                 \n",
      "=================================================================\n",
      "Total params: 5251073 (20.03 MB)\n",
      "Trainable params: 5251073 (20.03 MB)\n",
      "Non-trainable params: 0 (0.00 Byte)\n",
      "_________________________________________________________________\n"
     ]
    }
   ],
   "source": [
    "# Initialize the neural network model\n",
    "model = Sequential()\n",
    "\n",
    "# Add layers to the model\n",
    "model.add(Dense(1024, input_dim=1, activation='relu'))  # Input layer with 1024 neurons\n",
    "model.add(Dense(1024, activation='relu'))                # Hidden layer with 1024 neurons\n",
    "model.add(Dense(1024, activation='relu'))                # Hidden layer with 1024 neurons\n",
    "model.add(Dense(1024, activation='relu'))                # Hidden layer with 1024 neurons\n",
    "model.add(Dense(1024, activation='relu'))                # Hidden layer with 1024 neurons\n",
    "model.add(Dense(1024, activation='relu'))                # Hidden layer with 1024 neurons\n",
    "model.add(Dense(1))                                     # Output layer with 1 neuron for regression\n",
    "\n",
    "# Display the model's summary, including layers and parameter counts\n",
    "model.summary()"
   ]
  },
  {
   "cell_type": "code",
   "execution_count": 14,
   "metadata": {
    "colab": {
     "base_uri": "https://localhost:8080/"
    },
    "id": "BrOksOFhGj9d",
    "outputId": "30bb9c20-bff4-4a1f-ba8c-a0ed39092d0b"
   },
   "outputs": [
    {
     "name": "stdout",
     "output_type": "stream",
     "text": [
      "Epoch 1/100\n",
      "63/63 [==============================] - 5s 55ms/step - loss: 17.7847\n",
      "Epoch 2/100\n",
      "63/63 [==============================] - 3s 54ms/step - loss: 0.8658\n",
      "Epoch 3/100\n",
      "63/63 [==============================] - 3s 55ms/step - loss: 0.1301\n",
      "Epoch 4/100\n",
      "63/63 [==============================] - 4s 57ms/step - loss: 0.0844\n",
      "Epoch 5/100\n",
      "63/63 [==============================] - 4s 60ms/step - loss: 0.0478\n",
      "Epoch 6/100\n",
      "63/63 [==============================] - 4s 58ms/step - loss: 0.0408\n",
      "Epoch 7/100\n",
      "63/63 [==============================] - 4s 61ms/step - loss: 0.0343\n",
      "Epoch 8/100\n",
      "63/63 [==============================] - 4s 60ms/step - loss: 0.0263\n",
      "Epoch 9/100\n",
      "63/63 [==============================] - 4s 67ms/step - loss: 0.1092\n",
      "Epoch 10/100\n",
      "63/63 [==============================] - 4s 68ms/step - loss: 0.0719\n",
      "Epoch 11/100\n",
      "63/63 [==============================] - 4s 59ms/step - loss: 0.0447\n",
      "Epoch 12/100\n",
      "63/63 [==============================] - 4s 58ms/step - loss: 0.0407\n",
      "Epoch 13/100\n",
      "63/63 [==============================] - 4s 66ms/step - loss: 0.0405\n",
      "Epoch 14/100\n",
      "63/63 [==============================] - 4s 56ms/step - loss: 0.0202\n",
      "Epoch 15/100\n",
      "63/63 [==============================] - 4s 57ms/step - loss: 0.0663\n",
      "Epoch 16/100\n",
      "63/63 [==============================] - 4s 68ms/step - loss: 0.0922\n",
      "Epoch 17/100\n",
      "63/63 [==============================] - 5s 74ms/step - loss: 0.0204\n",
      "Epoch 18/100\n",
      "63/63 [==============================] - 4s 56ms/step - loss: 0.0574\n",
      "Epoch 19/100\n",
      "63/63 [==============================] - 3s 55ms/step - loss: 0.0558\n",
      "Epoch 20/100\n",
      "63/63 [==============================] - 3s 55ms/step - loss: 0.2701\n",
      "Epoch 21/100\n",
      "63/63 [==============================] - 4s 56ms/step - loss: 1.9029\n",
      "Epoch 22/100\n",
      "63/63 [==============================] - 4s 56ms/step - loss: 8.0757\n",
      "Epoch 23/100\n",
      "63/63 [==============================] - 4s 57ms/step - loss: 8.1878\n",
      "Epoch 24/100\n",
      "63/63 [==============================] - ETA: 0s - loss: 0.1516Restoring model weights from the end of the best epoch: 14.\n",
      "63/63 [==============================] - 4s 57ms/step - loss: 0.1516\n",
      "Epoch 24: early stopping\n",
      "Training started..., this can take a while:\n"
     ]
    }
   ],
   "source": [
    "\n",
    "\n",
    "# Compile the model with the Adam optimizer and mean squared error loss function\n",
    "model.compile(optimizer='adam', loss='mse')\n",
    "\n",
    "# Set up early stopping\n",
    "early_stopping = EarlyStopping(monitor='loss', patience=10, verbose=1, restore_best_weights=True)\n",
    "\n",
    "# Train the model on the dataset with early stopping\n",
    "model.fit(time_steps, y_positions, epochs=100, callbacks=[early_stopping])  # Fit the model to the data for 100 epochs\n",
    "\n",
    "print('Training started..., this can take a while:')\n"
   ]
  },
  {
   "cell_type": "code",
   "execution_count": 15,
   "metadata": {},
   "outputs": [],
   "source": [
    "# Define feature and target variables for splitting\n",
    "X = time_steps\n",
    "y = y_positions\n",
    "\n",
    "# Split the dataset into training and validation sets (80% train, 20% validation)\n",
    "X_train, X_val, y_train, y_val = train_test_split(X, y, test_size=0.2, random_state=42)\n"
   ]
  },
  {
   "cell_type": "code",
   "execution_count": 16,
   "metadata": {
    "colab": {
     "base_uri": "https://localhost:8080/",
     "height": 469
    },
    "id": "t3O9JkKjGnIy",
    "outputId": "26126244-4b35-443e-873e-1a1621f15cae"
   },
   "outputs": [
    {
     "name": "stdout",
     "output_type": "stream",
     "text": [
      "7/7 [==============================] - 0s 8ms/step\n"
     ]
    },
    {
     "data": {
      "image/png": "[encoded data removed]",
      "text/plain": [
       "<Figure size 640x480 with 1 Axes>"
      ]
     },
     "metadata": {},
     "output_type": "display_data"
    }
   ],
   "source": [
    "# Define a function to plot the predicted orbital path\n",
    "def plot_orbit(model_preds):\n",
    "    axeslim = int(len(model_preds) / 2)  # Calculate axis limit based on predictions\n",
    "    plt.plot(np.arange(-axeslim, axeslim + 1), np.arange(-axeslim, axeslim + 1) ** 2, color=\"mediumslateblue\")  # Plot scientist's orbit\n",
    "    plt.plot(np.arange(-axeslim, axeslim + 1), model_preds, color=\"orange\")  # Plot predicted orbit\n",
    "    plt.axis([-40, 41, -5, 550])  # Set the axis limits\n",
    "    plt.legend([\"Scientist's Orbit\", 'Your orbit'], loc=\"lower left\")  # Add legend\n",
    "    plt.title(\"Predicted orbit vs Scientist's Orbit\")  # Title of the plot\n",
    "\n",
    "# Predict the orbital path for a range of time values (from -100 to 100)\n",
    "eighty_min_orbit = model.predict(np.arange(-100, 101))\n",
    "\n",
    "# Plot the predicted orbital path\n",
    "plot_orbit(eighty_min_orbit)"
   ]
  },
  {
   "cell_type": "code",
   "execution_count": 17,
   "metadata": {},
   "outputs": [
    {
     "name": "stdout",
     "output_type": "stream",
     "text": [
      "13/13 [==============================] - 1s 8ms/step\n",
      "MSE: 0.004303338122074861, MAE: 0.045967922403006206, R2: 0.9999947974846712\n"
     ]
    }
   ],
   "source": [
    "# Make predictions using the validation set\n",
    "y_pred = model.predict(X_val)\n",
    "\n",
    "# Calculate performance metrics\n",
    "mse = mean_squared_error(y_val, y_pred)  # Mean Squared Error\n",
    "mae = mean_absolute_error(y_val, y_pred)  # Mean Absolute Error\n",
    "r2 = r2_score(y_val, y_pred)              # R-squared score\n",
    "\n",
    "# Print the calculated metrics\n",
    "print(f'MSE: {mse}, MAE: {mae}, R2: {r2}')  # Display the evaluation result"
   ]
  },
  {
   "cell_type": "code",
   "execution_count": 18,
   "metadata": {},
   "outputs": [
    {
     "data": {
      "image/png": "[encoded data removed]",
      "text/plain": [
       "<Figure size 640x480 with 1 Axes>"
      ]
     },
     "metadata": {},
     "output_type": "display_data"
    }
   ],
   "source": [
    "# Visualize actual vs predicted positions\n",
    "plt.scatter(X_val, y_val, label='Actual')  # Scatter plot of actual values\n",
    "plt.scatter(X_val, y_pred, label='Predicted', color='r')  # Scatter plot of predicted values\n",
    "plt.xlabel('Time')  # Label for x-axis\n",
    "plt.ylabel('Position')  # Label for y-axis\n",
    "plt.legend()  # Show legend\n",
    "plt.savefig('position_vs_predicted.png')  # Save the plot as a PNG file\n",
    "plt.show()  # Display the plot"
   ]
  },
  {
   "cell_type": "code",
   "execution_count": null,
   "metadata": {},
   "outputs": [],
   "source": []
  },
  {
   "cell_type": "code",
   "execution_count": null,
   "metadata": {},
   "outputs": [],
   "source": []
  },
  {
   "cell_type": "code",
   "execution_count": null,
   "metadata": {},
   "outputs": [],
   "source": []
  },
  {
   "cell_type": "code",
   "execution_count": null,
   "metadata": {},
   "outputs": [],
   "source": []
  },
  {
   "cell_type": "code",
   "execution_count": null,
   "metadata": {},
   "outputs": [],
   "source": []
  },
  {
   "cell_type": "code",
   "execution_count": null,
   "metadata": {},
   "outputs": [],
   "source": []
  },
  {
   "cell_type": "code",
   "execution_count": null,
   "metadata": {},
   "outputs": [],
   "source": []
  },
  {
   "cell_type": "code",
   "execution_count": null,
   "metadata": {},
   "outputs": [],
   "source": []
  },
  {
   "cell_type": "code",
   "execution_count": null,
   "metadata": {},
   "outputs": [],
   "source": []
  }
 ],
 "metadata": {
  "colab": {
   "provenance": []
  },
  "kernelspec": {
   "display_name": "Python 3 (ipykernel)",
   "language": "python",
   "name": "python3"
  },
  "language_info": {
   "codemirror_mode": {
    "name": "ipython",
    "version": 3
   },
   "file_extension": ".py",
   "mimetype": "text/x-python",
   "name": "python",
   "nbconvert_exporter": "python",
   "pygments_lexer": "ipython3",
   "version": "3.11.4"
  }
 },
 "nbformat": 4,
 "nbformat_minor": 1
}
